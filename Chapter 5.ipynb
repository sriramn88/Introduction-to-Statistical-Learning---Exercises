{
 "cells": [
  {
   "cell_type": "markdown",
   "id": "0260928b",
   "metadata": {},
   "source": [
    "# Resampling Methods"
   ]
  },
  {
   "cell_type": "code",
   "execution_count": 1,
   "id": "6d6ce4c0",
   "metadata": {},
   "outputs": [],
   "source": [
    "import numpy as np\n",
    "import matplotlib.pyplot as plt\n",
    "%matplotlib inline"
   ]
  },
  {
   "cell_type": "markdown",
   "id": "d807b81a",
   "metadata": {},
   "source": [
    "#### 2"
   ]
  },
  {
   "cell_type": "code",
   "execution_count": 2,
   "id": "daa6bf3c",
   "metadata": {},
   "outputs": [
    {
     "data": {
      "text/plain": [
       "[0.6723199999999999, 0.6339676587267709, 0.6321389535670295]"
      ]
     },
     "execution_count": 2,
     "metadata": {},
     "output_type": "execute_result"
    }
   ],
   "source": [
    "#c-f\n",
    "\n",
    "[(1-((1-1/n)**n)) for n in [5,100,10000]]"
   ]
  },
  {
   "cell_type": "code",
   "execution_count": 3,
   "id": "a5b3b487",
   "metadata": {},
   "outputs": [
    {
     "data": {
      "text/plain": [
       "[<matplotlib.lines.Line2D at 0x7fb6aec769a0>]"
      ]
     },
     "execution_count": 3,
     "metadata": {},
     "output_type": "execute_result"
    },
    {
     "data": {
      "image/png": "[encoded data removed]",
      "text/plain": [
       "<Figure size 432x288 with 1 Axes>"
      ]
     },
     "metadata": {
      "needs_background": "light"
     },
     "output_type": "display_data"
    }
   ],
   "source": [
    "import numpy as np\n",
    "\n",
    "plt.plot(np.arange(1,10), [(1-((1-1/n)**n)) for n in np.arange(1,10)])"
   ]
  },
  {
   "cell_type": "code",
   "execution_count": 4,
   "id": "5cab104f",
   "metadata": {},
   "outputs": [
    {
     "data": {
      "text/plain": [
       "0.6359"
      ]
     },
     "execution_count": 4,
     "metadata": {},
     "output_type": "execute_result"
    }
   ],
   "source": [
    "data = np.random.randint(1,101,(10000,100))\n",
    "np.any(data == 4, axis = 1).mean()"
   ]
  },
  {
   "cell_type": "code",
   "execution_count": 5,
   "id": "3c52ccc3",
   "metadata": {},
   "outputs": [
    {
     "data": {
      "text/html": [
       "<div>\n",
       "<style scoped>\n",
       "    .dataframe tbody tr th:only-of-type {\n",
       "        vertical-align: middle;\n",
       "    }\n",
       "\n",
       "    .dataframe tbody tr th {\n",
       "        vertical-align: top;\n",
       "    }\n",
       "\n",
       "    .dataframe thead th {\n",
       "        text-align: right;\n",
       "    }\n",
       "</style>\n",
       "<table border=\"1\" class=\"dataframe\">\n",
       "  <thead>\n",
       "    <tr style=\"text-align: right;\">\n",
       "      <th></th>\n",
       "      <th>default</th>\n",
       "      <th>student</th>\n",
       "      <th>balance</th>\n",
       "      <th>income</th>\n",
       "      <th>default_int</th>\n",
       "    </tr>\n",
       "  </thead>\n",
       "  <tbody>\n",
       "    <tr>\n",
       "      <th>0</th>\n",
       "      <td>No</td>\n",
       "      <td>No</td>\n",
       "      <td>729.526495</td>\n",
       "      <td>44361.625074</td>\n",
       "      <td>0</td>\n",
       "    </tr>\n",
       "    <tr>\n",
       "      <th>1</th>\n",
       "      <td>No</td>\n",
       "      <td>Yes</td>\n",
       "      <td>817.180407</td>\n",
       "      <td>12106.134700</td>\n",
       "      <td>0</td>\n",
       "    </tr>\n",
       "    <tr>\n",
       "      <th>2</th>\n",
       "      <td>No</td>\n",
       "      <td>No</td>\n",
       "      <td>1073.549164</td>\n",
       "      <td>31767.138947</td>\n",
       "      <td>0</td>\n",
       "    </tr>\n",
       "    <tr>\n",
       "      <th>3</th>\n",
       "      <td>No</td>\n",
       "      <td>No</td>\n",
       "      <td>529.250605</td>\n",
       "      <td>35704.493935</td>\n",
       "      <td>0</td>\n",
       "    </tr>\n",
       "    <tr>\n",
       "      <th>4</th>\n",
       "      <td>No</td>\n",
       "      <td>No</td>\n",
       "      <td>785.655883</td>\n",
       "      <td>38463.495879</td>\n",
       "      <td>0</td>\n",
       "    </tr>\n",
       "    <tr>\n",
       "      <th>5</th>\n",
       "      <td>No</td>\n",
       "      <td>Yes</td>\n",
       "      <td>919.588530</td>\n",
       "      <td>7491.558572</td>\n",
       "      <td>0</td>\n",
       "    </tr>\n",
       "    <tr>\n",
       "      <th>6</th>\n",
       "      <td>No</td>\n",
       "      <td>No</td>\n",
       "      <td>825.513331</td>\n",
       "      <td>24905.226578</td>\n",
       "      <td>0</td>\n",
       "    </tr>\n",
       "    <tr>\n",
       "      <th>7</th>\n",
       "      <td>No</td>\n",
       "      <td>Yes</td>\n",
       "      <td>808.667504</td>\n",
       "      <td>17600.451344</td>\n",
       "      <td>0</td>\n",
       "    </tr>\n",
       "    <tr>\n",
       "      <th>8</th>\n",
       "      <td>No</td>\n",
       "      <td>No</td>\n",
       "      <td>1161.057854</td>\n",
       "      <td>37468.529288</td>\n",
       "      <td>0</td>\n",
       "    </tr>\n",
       "    <tr>\n",
       "      <th>9</th>\n",
       "      <td>No</td>\n",
       "      <td>No</td>\n",
       "      <td>0.000000</td>\n",
       "      <td>29275.268293</td>\n",
       "      <td>0</td>\n",
       "    </tr>\n",
       "  </tbody>\n",
       "</table>\n",
       "</div>"
      ],
      "text/plain": [
       "  default student      balance        income  default_int\n",
       "0      No      No   729.526495  44361.625074            0\n",
       "1      No     Yes   817.180407  12106.134700            0\n",
       "2      No      No  1073.549164  31767.138947            0\n",
       "3      No      No   529.250605  35704.493935            0\n",
       "4      No      No   785.655883  38463.495879            0\n",
       "5      No     Yes   919.588530   7491.558572            0\n",
       "6      No      No   825.513331  24905.226578            0\n",
       "7      No     Yes   808.667504  17600.451344            0\n",
       "8      No      No  1161.057854  37468.529288            0\n",
       "9      No      No     0.000000  29275.268293            0"
      ]
     },
     "execution_count": 5,
     "metadata": {},
     "output_type": "execute_result"
    }
   ],
   "source": [
    "from sklearn.linear_model import LogisticRegression\n",
    "from sklearn.model_selection import train_test_split\n",
    "import pandas as pd\n",
    "\n",
    "default = pd.read_csv(\"/Users/sriramnatarajan/Documents/ML-based causal inference tutorial/Machine-Learning-Books-With-Python-master/Introduction to Statistical Learning/data/default.csv\")\n",
    "default['default_int'] = np.where(default['default'] == 'Yes', 1, 0)\n",
    "default.head(10)"
   ]
  },
  {
   "cell_type": "code",
   "execution_count": 34,
   "id": "6d370e15",
   "metadata": {},
   "outputs": [
    {
     "data": {
      "text/plain": [
       "LogisticRegression()"
      ]
     },
     "execution_count": 34,
     "metadata": {},
     "output_type": "execute_result"
    }
   ],
   "source": [
    "X = default[['income','balance']]\n",
    "Y = default['default_int']\n",
    "lr = LogisticRegression()\n",
    "lr.fit(X, Y)"
   ]
  },
  {
   "cell_type": "code",
   "execution_count": 35,
   "id": "9974b8a3",
   "metadata": {},
   "outputs": [],
   "source": [
    "X_train, X_test, Y_train, Y_test = train_test_split(X, Y, random_state = 1)"
   ]
  },
  {
   "cell_type": "code",
   "execution_count": 36,
   "id": "01b472a2",
   "metadata": {},
   "outputs": [
    {
     "data": {
      "text/plain": [
       "LogisticRegression()"
      ]
     },
     "execution_count": 36,
     "metadata": {},
     "output_type": "execute_result"
    }
   ],
   "source": [
    "lr.fit(X_train, Y_train)"
   ]
  },
  {
   "cell_type": "code",
   "execution_count": 37,
   "id": "2d88b169",
   "metadata": {},
   "outputs": [
    {
     "data": {
      "text/plain": [
       "0.9684"
      ]
     },
     "execution_count": 37,
     "metadata": {},
     "output_type": "execute_result"
    }
   ],
   "source": [
    "from sklearn.metrics import accuracy_score\n",
    "\n",
    "accuracy_score(Y_test, lr.predict(X_test))"
   ]
  },
  {
   "cell_type": "code",
   "execution_count": 38,
   "id": "c8b0b893",
   "metadata": {},
   "outputs": [
    {
     "data": {
      "text/plain": [
       "array([[   0,   79],\n",
       "       [   0, 2421]])"
      ]
     },
     "execution_count": 38,
     "metadata": {},
     "output_type": "execute_result"
    }
   ],
   "source": [
    "from sklearn.metrics import confusion_matrix\n",
    "\n",
    "confusion_matrix(Y_test, lr.predict(X_test), labels = [1,0])"
   ]
  },
  {
   "cell_type": "code",
   "execution_count": 39,
   "id": "1571faa5",
   "metadata": {},
   "outputs": [
    {
     "data": {
      "text/plain": [
       "0.9684"
      ]
     },
     "execution_count": 39,
     "metadata": {},
     "output_type": "execute_result"
    }
   ],
   "source": [
    "(lr.predict(X_test) == Y_test).mean()"
   ]
  },
  {
   "cell_type": "code",
   "execution_count": 40,
   "id": "6e88104b",
   "metadata": {},
   "outputs": [
    {
     "name": "stdout",
     "output_type": "stream",
     "text": [
      "Optimization terminated successfully.\n",
      "         Current function value: 0.078638\n",
      "         Iterations 10\n"
     ]
    },
    {
     "data": {
      "text/html": [
       "<table class=\"simpletable\">\n",
       "<caption>Logit Regression Results</caption>\n",
       "<tr>\n",
       "  <th>Dep. Variable:</th>      <td>default_int</td>   <th>  No. Observations:  </th>   <td>  7500</td>  \n",
       "</tr>\n",
       "<tr>\n",
       "  <th>Model:</th>                 <td>Logit</td>      <th>  Df Residuals:      </th>   <td>  7497</td>  \n",
       "</tr>\n",
       "<tr>\n",
       "  <th>Method:</th>                 <td>MLE</td>       <th>  Df Model:          </th>   <td>     2</td>  \n",
       "</tr>\n",
       "<tr>\n",
       "  <th>Date:</th>            <td>Mon, 15 Aug 2022</td> <th>  Pseudo R-squ.:     </th>   <td>0.4684</td>  \n",
       "</tr>\n",
       "<tr>\n",
       "  <th>Time:</th>                <td>14:04:05</td>     <th>  Log-Likelihood:    </th>  <td> -589.78</td> \n",
       "</tr>\n",
       "<tr>\n",
       "  <th>converged:</th>             <td>True</td>       <th>  LL-Null:           </th>  <td> -1109.5</td> \n",
       "</tr>\n",
       "<tr>\n",
       "  <th>Covariance Type:</th>     <td>nonrobust</td>    <th>  LLR p-value:       </th> <td>1.908e-226</td>\n",
       "</tr>\n",
       "</table>\n",
       "<table class=\"simpletable\">\n",
       "<tr>\n",
       "      <td></td>         <th>coef</th>     <th>std err</th>      <th>z</th>      <th>P>|z|</th>  <th>[0.025</th>    <th>0.975]</th>  \n",
       "</tr>\n",
       "<tr>\n",
       "  <th>Intercept</th> <td>  -11.7572</td> <td>    0.507</td> <td>  -23.185</td> <td> 0.000</td> <td>  -12.751</td> <td>  -10.763</td>\n",
       "</tr>\n",
       "<tr>\n",
       "  <th>income</th>    <td> 2.259e-05</td> <td>  5.8e-06</td> <td>    3.895</td> <td> 0.000</td> <td> 1.12e-05</td> <td>  3.4e-05</td>\n",
       "</tr>\n",
       "<tr>\n",
       "  <th>balance</th>   <td>    0.0058</td> <td>    0.000</td> <td>   21.632</td> <td> 0.000</td> <td>    0.005</td> <td>    0.006</td>\n",
       "</tr>\n",
       "</table><br/><br/>Possibly complete quasi-separation: A fraction 0.15 of observations can be<br/>perfectly predicted. This might indicate that there is complete<br/>quasi-separation. In this case some parameters will not be identified."
      ],
      "text/plain": [
       "<class 'statsmodels.iolib.summary.Summary'>\n",
       "\"\"\"\n",
       "                           Logit Regression Results                           \n",
       "==============================================================================\n",
       "Dep. Variable:            default_int   No. Observations:                 7500\n",
       "Model:                          Logit   Df Residuals:                     7497\n",
       "Method:                           MLE   Df Model:                            2\n",
       "Date:                Mon, 15 Aug 2022   Pseudo R-squ.:                  0.4684\n",
       "Time:                        14:04:05   Log-Likelihood:                -589.78\n",
       "converged:                       True   LL-Null:                       -1109.5\n",
       "Covariance Type:            nonrobust   LLR p-value:                1.908e-226\n",
       "==============================================================================\n",
       "                 coef    std err          z      P>|z|      [0.025      0.975]\n",
       "------------------------------------------------------------------------------\n",
       "Intercept    -11.7572      0.507    -23.185      0.000     -12.751     -10.763\n",
       "income      2.259e-05    5.8e-06      3.895      0.000    1.12e-05     3.4e-05\n",
       "balance        0.0058      0.000     21.632      0.000       0.005       0.006\n",
       "==============================================================================\n",
       "\n",
       "Possibly complete quasi-separation: A fraction 0.15 of observations can be\n",
       "perfectly predicted. This might indicate that there is complete\n",
       "quasi-separation. In this case some parameters will not be identified.\n",
       "\"\"\""
      ]
     },
     "execution_count": 40,
     "metadata": {},
     "output_type": "execute_result"
    }
   ],
   "source": [
    "import statsmodels.formula.api as smf\n",
    "\n",
    "X_train_sm = X_train.join(Y_train)\n",
    "\n",
    "results = smf.logit('default_int~income + balance', data = X_train_sm).fit()\n",
    "results.summary()"
   ]
  },
  {
   "cell_type": "code",
   "execution_count": 41,
   "id": "e6beeae1",
   "metadata": {},
   "outputs": [
    {
     "data": {
      "text/plain": [
       "0.9748"
      ]
     },
     "execution_count": 41,
     "metadata": {},
     "output_type": "execute_result"
    }
   ],
   "source": [
    "((results.predict(X_test) > .5) * 1 == Y_test).mean()"
   ]
  },
  {
   "cell_type": "markdown",
   "id": "44d45f73",
   "metadata": {},
   "source": [
    "#### 6"
   ]
  },
  {
   "cell_type": "code",
   "execution_count": 43,
   "id": "e13a8fd7",
   "metadata": {},
   "outputs": [
    {
     "name": "stdout",
     "output_type": "stream",
     "text": [
      "Optimization terminated successfully.\n",
      "         Current function value: 0.078948\n",
      "         Iterations 10\n"
     ]
    },
    {
     "data": {
      "text/html": [
       "<table class=\"simpletable\">\n",
       "<caption>Logit Regression Results</caption>\n",
       "<tr>\n",
       "  <th>Dep. Variable:</th>      <td>default_int</td>   <th>  No. Observations:  </th>   <td> 10000</td>  \n",
       "</tr>\n",
       "<tr>\n",
       "  <th>Model:</th>                 <td>Logit</td>      <th>  Df Residuals:      </th>   <td>  9997</td>  \n",
       "</tr>\n",
       "<tr>\n",
       "  <th>Method:</th>                 <td>MLE</td>       <th>  Df Model:          </th>   <td>     2</td>  \n",
       "</tr>\n",
       "<tr>\n",
       "  <th>Date:</th>            <td>Mon, 15 Aug 2022</td> <th>  Pseudo R-squ.:     </th>   <td>0.4594</td>  \n",
       "</tr>\n",
       "<tr>\n",
       "  <th>Time:</th>                <td>14:04:16</td>     <th>  Log-Likelihood:    </th>  <td> -789.48</td> \n",
       "</tr>\n",
       "<tr>\n",
       "  <th>converged:</th>             <td>True</td>       <th>  LL-Null:           </th>  <td> -1460.3</td> \n",
       "</tr>\n",
       "<tr>\n",
       "  <th>Covariance Type:</th>     <td>nonrobust</td>    <th>  LLR p-value:       </th> <td>4.541e-292</td>\n",
       "</tr>\n",
       "</table>\n",
       "<table class=\"simpletable\">\n",
       "<tr>\n",
       "      <td></td>         <th>coef</th>     <th>std err</th>      <th>z</th>      <th>P>|z|</th>  <th>[0.025</th>    <th>0.975]</th>  \n",
       "</tr>\n",
       "<tr>\n",
       "  <th>Intercept</th> <td>  -11.5405</td> <td>    0.435</td> <td>  -26.544</td> <td> 0.000</td> <td>  -12.393</td> <td>  -10.688</td>\n",
       "</tr>\n",
       "<tr>\n",
       "  <th>income</th>    <td> 2.081e-05</td> <td> 4.99e-06</td> <td>    4.174</td> <td> 0.000</td> <td>  1.1e-05</td> <td> 3.06e-05</td>\n",
       "</tr>\n",
       "<tr>\n",
       "  <th>balance</th>   <td>    0.0056</td> <td>    0.000</td> <td>   24.835</td> <td> 0.000</td> <td>    0.005</td> <td>    0.006</td>\n",
       "</tr>\n",
       "</table><br/><br/>Possibly complete quasi-separation: A fraction 0.14 of observations can be<br/>perfectly predicted. This might indicate that there is complete<br/>quasi-separation. In this case some parameters will not be identified."
      ],
      "text/plain": [
       "<class 'statsmodels.iolib.summary.Summary'>\n",
       "\"\"\"\n",
       "                           Logit Regression Results                           \n",
       "==============================================================================\n",
       "Dep. Variable:            default_int   No. Observations:                10000\n",
       "Model:                          Logit   Df Residuals:                     9997\n",
       "Method:                           MLE   Df Model:                            2\n",
       "Date:                Mon, 15 Aug 2022   Pseudo R-squ.:                  0.4594\n",
       "Time:                        14:04:16   Log-Likelihood:                -789.48\n",
       "converged:                       True   LL-Null:                       -1460.3\n",
       "Covariance Type:            nonrobust   LLR p-value:                4.541e-292\n",
       "==============================================================================\n",
       "                 coef    std err          z      P>|z|      [0.025      0.975]\n",
       "------------------------------------------------------------------------------\n",
       "Intercept    -11.5405      0.435    -26.544      0.000     -12.393     -10.688\n",
       "income      2.081e-05   4.99e-06      4.174      0.000     1.1e-05    3.06e-05\n",
       "balance        0.0056      0.000     24.835      0.000       0.005       0.006\n",
       "==============================================================================\n",
       "\n",
       "Possibly complete quasi-separation: A fraction 0.14 of observations can be\n",
       "perfectly predicted. This might indicate that there is complete\n",
       "quasi-separation. In this case some parameters will not be identified.\n",
       "\"\"\""
      ]
     },
     "execution_count": 43,
     "metadata": {},
     "output_type": "execute_result"
    }
   ],
   "source": [
    "results = smf.logit('default_int ~ income + balance', data = default).fit()\n",
    "results.summary()"
   ]
  },
  {
   "cell_type": "code",
   "execution_count": 54,
   "id": "b63599ca",
   "metadata": {},
   "outputs": [],
   "source": [
    "df_params  = pd.DataFrame(columns = ['Intercept', 'income', 'balance'])\n",
    "\n",
    "for i in range(100):\n",
    "    default_sample = default.sample(len(default), replace= True)\n",
    "    result_sample = smf.logit('default_int ~ income + balance', data = default_sample).fit(disp = 0)\n",
    "    df_params = df_params.append(result_sample.params, ignore_index = True)"
   ]
  },
  {
   "cell_type": "code",
   "execution_count": 56,
   "id": "f3e1f683",
   "metadata": {},
   "outputs": [
    {
     "data": {
      "text/plain": [
       "(Intercept   -11.566798\n",
       " income        0.000021\n",
       " balance       0.005664\n",
       " dtype: float64,\n",
       " Intercept    0.420952\n",
       " income       0.000005\n",
       " balance      0.000214\n",
       " dtype: float64)"
      ]
     },
     "execution_count": 56,
     "metadata": {},
     "output_type": "execute_result"
    }
   ],
   "source": [
    "df_params.mean(), df_params.std()"
   ]
  },
  {
   "cell_type": "code",
   "execution_count": 57,
   "id": "5d23aaf4",
   "metadata": {},
   "outputs": [
    {
     "data": {
      "text/plain": [
       "(Intercept   -11.540468\n",
       " income        0.000021\n",
       " balance       0.005647\n",
       " dtype: float64,\n",
       " Intercept    0.434772\n",
       " income       0.000005\n",
       " balance      0.000227\n",
       " dtype: float64)"
      ]
     },
     "execution_count": 57,
     "metadata": {},
     "output_type": "execute_result"
    }
   ],
   "source": [
    "results.params, results.bse"
   ]
  },
  {
   "cell_type": "markdown",
   "id": "251aa6c7",
   "metadata": {},
   "source": [
    "##### 7"
   ]
  },
  {
   "cell_type": "code",
   "execution_count": 60,
   "id": "47e0eb0a",
   "metadata": {},
   "outputs": [
    {
     "data": {
      "text/html": [
       "<div>\n",
       "<style scoped>\n",
       "    .dataframe tbody tr th:only-of-type {\n",
       "        vertical-align: middle;\n",
       "    }\n",
       "\n",
       "    .dataframe tbody tr th {\n",
       "        vertical-align: top;\n",
       "    }\n",
       "\n",
       "    .dataframe thead th {\n",
       "        text-align: right;\n",
       "    }\n",
       "</style>\n",
       "<table border=\"1\" class=\"dataframe\">\n",
       "  <thead>\n",
       "    <tr style=\"text-align: right;\">\n",
       "      <th></th>\n",
       "      <th>Year</th>\n",
       "      <th>Lag1</th>\n",
       "      <th>Lag2</th>\n",
       "      <th>Lag3</th>\n",
       "      <th>Lag4</th>\n",
       "      <th>Lag5</th>\n",
       "      <th>Volume</th>\n",
       "      <th>Today</th>\n",
       "      <th>Direction</th>\n",
       "      <th>direction</th>\n",
       "    </tr>\n",
       "  </thead>\n",
       "  <tbody>\n",
       "    <tr>\n",
       "      <th>0</th>\n",
       "      <td>1990</td>\n",
       "      <td>0.816</td>\n",
       "      <td>1.572</td>\n",
       "      <td>-3.936</td>\n",
       "      <td>-0.229</td>\n",
       "      <td>-3.484</td>\n",
       "      <td>0.154976</td>\n",
       "      <td>-0.270</td>\n",
       "      <td>Down</td>\n",
       "      <td>0</td>\n",
       "    </tr>\n",
       "    <tr>\n",
       "      <th>1</th>\n",
       "      <td>1990</td>\n",
       "      <td>-0.270</td>\n",
       "      <td>0.816</td>\n",
       "      <td>1.572</td>\n",
       "      <td>-3.936</td>\n",
       "      <td>-0.229</td>\n",
       "      <td>0.148574</td>\n",
       "      <td>-2.576</td>\n",
       "      <td>Down</td>\n",
       "      <td>0</td>\n",
       "    </tr>\n",
       "    <tr>\n",
       "      <th>2</th>\n",
       "      <td>1990</td>\n",
       "      <td>-2.576</td>\n",
       "      <td>-0.270</td>\n",
       "      <td>0.816</td>\n",
       "      <td>1.572</td>\n",
       "      <td>-3.936</td>\n",
       "      <td>0.159837</td>\n",
       "      <td>3.514</td>\n",
       "      <td>Up</td>\n",
       "      <td>1</td>\n",
       "    </tr>\n",
       "    <tr>\n",
       "      <th>3</th>\n",
       "      <td>1990</td>\n",
       "      <td>3.514</td>\n",
       "      <td>-2.576</td>\n",
       "      <td>-0.270</td>\n",
       "      <td>0.816</td>\n",
       "      <td>1.572</td>\n",
       "      <td>0.161630</td>\n",
       "      <td>0.712</td>\n",
       "      <td>Up</td>\n",
       "      <td>1</td>\n",
       "    </tr>\n",
       "    <tr>\n",
       "      <th>4</th>\n",
       "      <td>1990</td>\n",
       "      <td>0.712</td>\n",
       "      <td>3.514</td>\n",
       "      <td>-2.576</td>\n",
       "      <td>-0.270</td>\n",
       "      <td>0.816</td>\n",
       "      <td>0.153728</td>\n",
       "      <td>1.178</td>\n",
       "      <td>Up</td>\n",
       "      <td>1</td>\n",
       "    </tr>\n",
       "    <tr>\n",
       "      <th>5</th>\n",
       "      <td>1990</td>\n",
       "      <td>1.178</td>\n",
       "      <td>0.712</td>\n",
       "      <td>3.514</td>\n",
       "      <td>-2.576</td>\n",
       "      <td>-0.270</td>\n",
       "      <td>0.154444</td>\n",
       "      <td>-1.372</td>\n",
       "      <td>Down</td>\n",
       "      <td>0</td>\n",
       "    </tr>\n",
       "    <tr>\n",
       "      <th>6</th>\n",
       "      <td>1990</td>\n",
       "      <td>-1.372</td>\n",
       "      <td>1.178</td>\n",
       "      <td>0.712</td>\n",
       "      <td>3.514</td>\n",
       "      <td>-2.576</td>\n",
       "      <td>0.151722</td>\n",
       "      <td>0.807</td>\n",
       "      <td>Up</td>\n",
       "      <td>1</td>\n",
       "    </tr>\n",
       "    <tr>\n",
       "      <th>7</th>\n",
       "      <td>1990</td>\n",
       "      <td>0.807</td>\n",
       "      <td>-1.372</td>\n",
       "      <td>1.178</td>\n",
       "      <td>0.712</td>\n",
       "      <td>3.514</td>\n",
       "      <td>0.132310</td>\n",
       "      <td>0.041</td>\n",
       "      <td>Up</td>\n",
       "      <td>1</td>\n",
       "    </tr>\n",
       "    <tr>\n",
       "      <th>8</th>\n",
       "      <td>1990</td>\n",
       "      <td>0.041</td>\n",
       "      <td>0.807</td>\n",
       "      <td>-1.372</td>\n",
       "      <td>1.178</td>\n",
       "      <td>0.712</td>\n",
       "      <td>0.143972</td>\n",
       "      <td>1.253</td>\n",
       "      <td>Up</td>\n",
       "      <td>1</td>\n",
       "    </tr>\n",
       "    <tr>\n",
       "      <th>9</th>\n",
       "      <td>1990</td>\n",
       "      <td>1.253</td>\n",
       "      <td>0.041</td>\n",
       "      <td>0.807</td>\n",
       "      <td>-1.372</td>\n",
       "      <td>1.178</td>\n",
       "      <td>0.133635</td>\n",
       "      <td>-2.678</td>\n",
       "      <td>Down</td>\n",
       "      <td>0</td>\n",
       "    </tr>\n",
       "  </tbody>\n",
       "</table>\n",
       "</div>"
      ],
      "text/plain": [
       "   Year   Lag1   Lag2   Lag3   Lag4   Lag5    Volume  Today Direction  \\\n",
       "0  1990  0.816  1.572 -3.936 -0.229 -3.484  0.154976 -0.270      Down   \n",
       "1  1990 -0.270  0.816  1.572 -3.936 -0.229  0.148574 -2.576      Down   \n",
       "2  1990 -2.576 -0.270  0.816  1.572 -3.936  0.159837  3.514        Up   \n",
       "3  1990  3.514 -2.576 -0.270  0.816  1.572  0.161630  0.712        Up   \n",
       "4  1990  0.712  3.514 -2.576 -0.270  0.816  0.153728  1.178        Up   \n",
       "5  1990  1.178  0.712  3.514 -2.576 -0.270  0.154444 -1.372      Down   \n",
       "6  1990 -1.372  1.178  0.712  3.514 -2.576  0.151722  0.807        Up   \n",
       "7  1990  0.807 -1.372  1.178  0.712  3.514  0.132310  0.041        Up   \n",
       "8  1990  0.041  0.807 -1.372  1.178  0.712  0.143972  1.253        Up   \n",
       "9  1990  1.253  0.041  0.807 -1.372  1.178  0.133635 -2.678      Down   \n",
       "\n",
       "   direction  \n",
       "0          0  \n",
       "1          0  \n",
       "2          1  \n",
       "3          1  \n",
       "4          1  \n",
       "5          0  \n",
       "6          1  \n",
       "7          1  \n",
       "8          1  \n",
       "9          0  "
      ]
     },
     "execution_count": 60,
     "metadata": {},
     "output_type": "execute_result"
    }
   ],
   "source": [
    "weekly = pd.read_csv(\"/Users/sriramnatarajan/Documents/ML-based causal inference tutorial/Machine-Learning-Books-With-Python-master/Introduction to Statistical Learning/data/weekly.csv\")\n",
    "weekly['direction'] = np.where(weekly['Direction'] == 'Up', 1, 0)\n",
    "weekly.head(10)"
   ]
  },
  {
   "cell_type": "code",
   "execution_count": 63,
   "id": "a027de02",
   "metadata": {},
   "outputs": [
    {
     "data": {
      "text/plain": [
       "Intercept    0.221224\n",
       "Lag1        -0.038722\n",
       "Lag2         0.060248\n",
       "dtype: float64"
      ]
     },
     "execution_count": 63,
     "metadata": {},
     "output_type": "execute_result"
    }
   ],
   "source": [
    "X = weekly[['Lag1', 'Lag2']]\n",
    "Y = weekly['direction']\n",
    "results = smf.logit('direction ~ Lag1 + Lag2', data = weekly).fit(disp = 0)\n",
    "results.summary()"
   ]
  },
  {
   "cell_type": "code",
   "execution_count": 65,
   "id": "eac9a6cb",
   "metadata": {},
   "outputs": [
    {
     "data": {
      "text/plain": [
       "0.5555555555555556"
      ]
     },
     "execution_count": 65,
     "metadata": {},
     "output_type": "execute_result"
    }
   ],
   "source": [
    "((results.predict(X)>0.5)*1 == Y).mean()"
   ]
  },
  {
   "cell_type": "code",
   "execution_count": 66,
   "id": "b80ebc5a",
   "metadata": {},
   "outputs": [
    {
     "data": {
      "text/html": [
       "<table class=\"simpletable\">\n",
       "<caption>Logit Regression Results</caption>\n",
       "<tr>\n",
       "  <th>Dep. Variable:</th>       <td>direction</td>    <th>  No. Observations:  </th>  <td>  1089</td> \n",
       "</tr>\n",
       "<tr>\n",
       "  <th>Model:</th>                 <td>Logit</td>      <th>  Df Residuals:      </th>  <td>  1086</td> \n",
       "</tr>\n",
       "<tr>\n",
       "  <th>Method:</th>                 <td>MLE</td>       <th>  Df Model:          </th>  <td>     2</td> \n",
       "</tr>\n",
       "<tr>\n",
       "  <th>Date:</th>            <td>Mon, 15 Aug 2022</td> <th>  Pseudo R-squ.:     </th> <td>0.005335</td>\n",
       "</tr>\n",
       "<tr>\n",
       "  <th>Time:</th>                <td>16:03:47</td>     <th>  Log-Likelihood:    </th> <td> -744.11</td>\n",
       "</tr>\n",
       "<tr>\n",
       "  <th>converged:</th>             <td>True</td>       <th>  LL-Null:           </th> <td> -748.10</td>\n",
       "</tr>\n",
       "<tr>\n",
       "  <th>Covariance Type:</th>     <td>nonrobust</td>    <th>  LLR p-value:       </th>  <td>0.01848</td>\n",
       "</tr>\n",
       "</table>\n",
       "<table class=\"simpletable\">\n",
       "<tr>\n",
       "      <td></td>         <th>coef</th>     <th>std err</th>      <th>z</th>      <th>P>|z|</th>  <th>[0.025</th>    <th>0.975]</th>  \n",
       "</tr>\n",
       "<tr>\n",
       "  <th>Intercept</th> <td>    0.2212</td> <td>    0.061</td> <td>    3.599</td> <td> 0.000</td> <td>    0.101</td> <td>    0.342</td>\n",
       "</tr>\n",
       "<tr>\n",
       "  <th>Lag1</th>      <td>   -0.0387</td> <td>    0.026</td> <td>   -1.477</td> <td> 0.140</td> <td>   -0.090</td> <td>    0.013</td>\n",
       "</tr>\n",
       "<tr>\n",
       "  <th>Lag2</th>      <td>    0.0602</td> <td>    0.027</td> <td>    2.270</td> <td> 0.023</td> <td>    0.008</td> <td>    0.112</td>\n",
       "</tr>\n",
       "</table>"
      ],
      "text/plain": [
       "<class 'statsmodels.iolib.summary.Summary'>\n",
       "\"\"\"\n",
       "                           Logit Regression Results                           \n",
       "==============================================================================\n",
       "Dep. Variable:              direction   No. Observations:                 1089\n",
       "Model:                          Logit   Df Residuals:                     1086\n",
       "Method:                           MLE   Df Model:                            2\n",
       "Date:                Mon, 15 Aug 2022   Pseudo R-squ.:                0.005335\n",
       "Time:                        16:03:47   Log-Likelihood:                -744.11\n",
       "converged:                       True   LL-Null:                       -748.10\n",
       "Covariance Type:            nonrobust   LLR p-value:                   0.01848\n",
       "==============================================================================\n",
       "                 coef    std err          z      P>|z|      [0.025      0.975]\n",
       "------------------------------------------------------------------------------\n",
       "Intercept      0.2212      0.061      3.599      0.000       0.101       0.342\n",
       "Lag1          -0.0387      0.026     -1.477      0.140      -0.090       0.013\n",
       "Lag2           0.0602      0.027      2.270      0.023       0.008       0.112\n",
       "==============================================================================\n",
       "\"\"\""
      ]
     },
     "execution_count": 66,
     "metadata": {},
     "output_type": "execute_result"
    }
   ],
   "source": [
    "X_01 = X[1:]\n",
    "Y_01 = Y[1:]\n",
    "results = smf.logit('direction ~ Lag1 + Lag2', data = weekly).fit(disp = 0)\n",
    "results.summary()"
   ]
  },
  {
   "cell_type": "code",
   "execution_count": 75,
   "id": "8c52fc76",
   "metadata": {},
   "outputs": [
    {
     "data": {
      "text/plain": [
       "array([[-0.03840931,  0.06080633]])"
      ]
     },
     "execution_count": 75,
     "metadata": {},
     "output_type": "execute_result"
    }
   ],
   "source": [
    "model = lr.fit(X_01, Y_01)\n",
    "model.coef_"
   ]
  },
  {
   "cell_type": "code",
   "execution_count": 80,
   "id": "dc657ed3",
   "metadata": {},
   "outputs": [
    {
     "data": {
      "text/plain": [
       "array([1])"
      ]
     },
     "execution_count": 80,
     "metadata": {},
     "output_type": "execute_result"
    }
   ],
   "source": [
    "model.predict([X.iloc[0]]) "
   ]
  },
  {
   "cell_type": "code",
   "execution_count": 85,
   "id": "a6cde6e9",
   "metadata": {},
   "outputs": [
    {
     "data": {
      "text/plain": [
       "0.44995408631772266"
      ]
     },
     "execution_count": 85,
     "metadata": {},
     "output_type": "execute_result"
    }
   ],
   "source": [
    "errors = np.zeros(len(X))\n",
    "for i in range(len(X)):\n",
    "    leave_out = ~X.index.isin([i])\n",
    "    model = lr.fit(X[leave_out], Y[leave_out])\n",
    "    if model.predict([X.iloc[i]]) != Y.loc[i]:\n",
    "        errors[i] = 1\n",
    "\n",
    "errors.mean()       "
   ]
  },
  {
   "cell_type": "markdown",
   "id": "2b71a896",
   "metadata": {},
   "source": [
    "##### 8"
   ]
  },
  {
   "cell_type": "code",
   "execution_count": 147,
   "id": "de911153",
   "metadata": {},
   "outputs": [],
   "source": [
    "np.random.seed(1)\n",
    "X = np.random.randn(100)\n",
    "Y = X - 2*X**2 + np.random.randn(100)"
   ]
  },
  {
   "cell_type": "code",
   "execution_count": 148,
   "id": "16da20fe",
   "metadata": {},
   "outputs": [
    {
     "data": {
      "text/plain": [
       "<AxesSubplot:>"
      ]
     },
     "execution_count": 148,
     "metadata": {},
     "output_type": "execute_result"
    },
    {
     "data": {
      "image/png": "[encoded data removed]",
      "text/plain": [
       "<Figure size 432x288 with 1 Axes>"
      ]
     },
     "metadata": {
      "needs_background": "light"
     },
     "output_type": "display_data"
    }
   ],
   "source": [
    "import seaborn as sns\n",
    "\n",
    "sns.scatterplot(x = X, y = Y)"
   ]
  },
  {
   "cell_type": "code",
   "execution_count": 149,
   "id": "e7ad6aae",
   "metadata": {},
   "outputs": [
    {
     "data": {
      "text/plain": [
       "(100,)"
      ]
     },
     "execution_count": 149,
     "metadata": {},
     "output_type": "execute_result"
    }
   ],
   "source": [
    "X.shape"
   ]
  },
  {
   "cell_type": "code",
   "execution_count": 164,
   "id": "7b107a2c",
   "metadata": {},
   "outputs": [
    {
     "data": {
      "text/plain": [
       "array([6.26076433, 0.91428971, 0.92687688, 0.86691169])"
      ]
     },
     "execution_count": 164,
     "metadata": {},
     "output_type": "execute_result"
    }
   ],
   "source": [
    "# Model 1\n",
    "from sklearn.linear_model import LinearRegression\n",
    "\n",
    "df = pd.DataFrame(np.array([np.ones(len(X)),X, X**2, X**3,X**4,Y]).T, columns = ['b0','X', 'X2', 'X3','X4', 'Y'])\n",
    "\n",
    "X_vars = df.iloc[:,:5]\n",
    "Y_var = df.iloc[:,-1]\n",
    "\n",
    "model = LinearRegression()\n",
    "errors = np.zeros((len(X_vars), 4))\n",
    "for i in range(len(X_vars)):\n",
    "    leave_out = ~X_vars.index.isin([i])\n",
    "    for j in range(4):\n",
    "        model.fit(X_vars.iloc[leave_out, :j+2], Y_var[leave_out])\n",
    "        errors[i, j] = (model.predict([X_vars.iloc[i, :j+2]]) - Y_var[i])**2\n",
    "errors.mean(axis = 0)"
   ]
  },
  {
   "cell_type": "code",
   "execution_count": 165,
   "id": "6ae33000",
   "metadata": {},
   "outputs": [
    {
     "data": {
      "text/plain": [
       "array([11.61020827,  1.26528394,  1.28204182,  1.31659158])"
      ]
     },
     "execution_count": 165,
     "metadata": {},
     "output_type": "execute_result"
    }
   ],
   "source": [
    "np.random.seed(2)\n",
    "\n",
    "X = np.random.randn(100)\n",
    "Y = X - 2*X**2 + np.random.randn(100)\n",
    "\n",
    "df = pd.DataFrame(np.array([np.ones(len(X)),X, X**2, X**3,X**4,Y]).T, columns = ['b0','X', 'X2', 'X3','X4', 'Y'])\n",
    "\n",
    "X_vars = df.iloc[:,:5]\n",
    "Y_var = df.iloc[:,-1]\n",
    "\n",
    "model = LinearRegression()\n",
    "errors = np.zeros((len(X_vars), 4))\n",
    "for i in range(len(X_vars)):\n",
    "    leave_out = ~X_vars.index.isin([i])\n",
    "    for j in range(4):\n",
    "        model.fit(X_vars.iloc[leave_out, :j+2], Y_var[leave_out])\n",
    "        errors[i, j] = (model.predict([X_vars.iloc[i, :j+2]]) - Y_var[i])**2\n",
    "errors.mean(axis = 0)\n"
   ]
  },
  {
   "cell_type": "markdown",
   "id": "a24193f2",
   "metadata": {},
   "source": [
    "##### 9"
   ]
  },
  {
   "cell_type": "code",
   "execution_count": 166,
   "id": "81923981",
   "metadata": {},
   "outputs": [
    {
     "data": {
      "text/html": [
       "<div>\n",
       "<style scoped>\n",
       "    .dataframe tbody tr th:only-of-type {\n",
       "        vertical-align: middle;\n",
       "    }\n",
       "\n",
       "    .dataframe tbody tr th {\n",
       "        vertical-align: top;\n",
       "    }\n",
       "\n",
       "    .dataframe thead th {\n",
       "        text-align: right;\n",
       "    }\n",
       "</style>\n",
       "<table border=\"1\" class=\"dataframe\">\n",
       "  <thead>\n",
       "    <tr style=\"text-align: right;\">\n",
       "      <th></th>\n",
       "      <th>crim</th>\n",
       "      <th>zn</th>\n",
       "      <th>indus</th>\n",
       "      <th>chas</th>\n",
       "      <th>nox</th>\n",
       "      <th>rm</th>\n",
       "      <th>age</th>\n",
       "      <th>dis</th>\n",
       "      <th>rad</th>\n",
       "      <th>tax</th>\n",
       "      <th>ptratio</th>\n",
       "      <th>black</th>\n",
       "      <th>lstat</th>\n",
       "      <th>medv</th>\n",
       "    </tr>\n",
       "  </thead>\n",
       "  <tbody>\n",
       "    <tr>\n",
       "      <th>0</th>\n",
       "      <td>0.00632</td>\n",
       "      <td>18.0</td>\n",
       "      <td>2.31</td>\n",
       "      <td>0</td>\n",
       "      <td>0.538</td>\n",
       "      <td>6.575</td>\n",
       "      <td>65.2</td>\n",
       "      <td>4.0900</td>\n",
       "      <td>1</td>\n",
       "      <td>296</td>\n",
       "      <td>15.3</td>\n",
       "      <td>396.90</td>\n",
       "      <td>4.98</td>\n",
       "      <td>24.0</td>\n",
       "    </tr>\n",
       "    <tr>\n",
       "      <th>1</th>\n",
       "      <td>0.02731</td>\n",
       "      <td>0.0</td>\n",
       "      <td>7.07</td>\n",
       "      <td>0</td>\n",
       "      <td>0.469</td>\n",
       "      <td>6.421</td>\n",
       "      <td>78.9</td>\n",
       "      <td>4.9671</td>\n",
       "      <td>2</td>\n",
       "      <td>242</td>\n",
       "      <td>17.8</td>\n",
       "      <td>396.90</td>\n",
       "      <td>9.14</td>\n",
       "      <td>21.6</td>\n",
       "    </tr>\n",
       "    <tr>\n",
       "      <th>2</th>\n",
       "      <td>0.02729</td>\n",
       "      <td>0.0</td>\n",
       "      <td>7.07</td>\n",
       "      <td>0</td>\n",
       "      <td>0.469</td>\n",
       "      <td>7.185</td>\n",
       "      <td>61.1</td>\n",
       "      <td>4.9671</td>\n",
       "      <td>2</td>\n",
       "      <td>242</td>\n",
       "      <td>17.8</td>\n",
       "      <td>392.83</td>\n",
       "      <td>4.03</td>\n",
       "      <td>34.7</td>\n",
       "    </tr>\n",
       "    <tr>\n",
       "      <th>3</th>\n",
       "      <td>0.03237</td>\n",
       "      <td>0.0</td>\n",
       "      <td>2.18</td>\n",
       "      <td>0</td>\n",
       "      <td>0.458</td>\n",
       "      <td>6.998</td>\n",
       "      <td>45.8</td>\n",
       "      <td>6.0622</td>\n",
       "      <td>3</td>\n",
       "      <td>222</td>\n",
       "      <td>18.7</td>\n",
       "      <td>394.63</td>\n",
       "      <td>2.94</td>\n",
       "      <td>33.4</td>\n",
       "    </tr>\n",
       "    <tr>\n",
       "      <th>4</th>\n",
       "      <td>0.06905</td>\n",
       "      <td>0.0</td>\n",
       "      <td>2.18</td>\n",
       "      <td>0</td>\n",
       "      <td>0.458</td>\n",
       "      <td>7.147</td>\n",
       "      <td>54.2</td>\n",
       "      <td>6.0622</td>\n",
       "      <td>3</td>\n",
       "      <td>222</td>\n",
       "      <td>18.7</td>\n",
       "      <td>396.90</td>\n",
       "      <td>5.33</td>\n",
       "      <td>36.2</td>\n",
       "    </tr>\n",
       "  </tbody>\n",
       "</table>\n",
       "</div>"
      ],
      "text/plain": [
       "      crim    zn  indus  chas    nox     rm   age     dis  rad  tax  ptratio  \\\n",
       "0  0.00632  18.0   2.31     0  0.538  6.575  65.2  4.0900    1  296     15.3   \n",
       "1  0.02731   0.0   7.07     0  0.469  6.421  78.9  4.9671    2  242     17.8   \n",
       "2  0.02729   0.0   7.07     0  0.469  7.185  61.1  4.9671    2  242     17.8   \n",
       "3  0.03237   0.0   2.18     0  0.458  6.998  45.8  6.0622    3  222     18.7   \n",
       "4  0.06905   0.0   2.18     0  0.458  7.147  54.2  6.0622    3  222     18.7   \n",
       "\n",
       "    black  lstat  medv  \n",
       "0  396.90   4.98  24.0  \n",
       "1  396.90   9.14  21.6  \n",
       "2  392.83   4.03  34.7  \n",
       "3  394.63   2.94  33.4  \n",
       "4  396.90   5.33  36.2  "
      ]
     },
     "execution_count": 166,
     "metadata": {},
     "output_type": "execute_result"
    }
   ],
   "source": [
    "boston = pd.read_csv(\"/Users/sriramnatarajan/Documents/ML-based causal inference tutorial/Machine-Learning-Books-With-Python-master/Introduction to Statistical Learning/data/boston.csv\")\n",
    "boston.head()"
   ]
  },
  {
   "cell_type": "code",
   "execution_count": 167,
   "id": "4692c95a",
   "metadata": {},
   "outputs": [
    {
     "data": {
      "text/plain": [
       "22.532806324110698"
      ]
     },
     "execution_count": 167,
     "metadata": {},
     "output_type": "execute_result"
    }
   ],
   "source": [
    "boston['medv'].mean()"
   ]
  },
  {
   "cell_type": "code",
   "execution_count": 170,
   "id": "a3295687",
   "metadata": {},
   "outputs": [
    {
     "data": {
      "text/plain": [
       "0.4088611474975351"
      ]
     },
     "execution_count": 170,
     "metadata": {},
     "output_type": "execute_result"
    }
   ],
   "source": [
    "boston['medv'].std()/np.sqrt(len(boston))"
   ]
  },
  {
   "cell_type": "code",
   "execution_count": 172,
   "id": "cb5b606d",
   "metadata": {},
   "outputs": [
    {
     "data": {
      "text/plain": [
       "0.4020602711184041"
      ]
     },
     "execution_count": 172,
     "metadata": {},
     "output_type": "execute_result"
    }
   ],
   "source": [
    "means = [boston['medv'].sample(n= len(boston), replace = True).mean() for i in range(1000)]\n",
    "np.std(means)"
   ]
  },
  {
   "cell_type": "code",
   "execution_count": 174,
   "id": "d49edfb0",
   "metadata": {},
   "outputs": [
    {
     "data": {
      "text/plain": [
       "[21.730620752720533, 23.334991895500863]"
      ]
     },
     "execution_count": 174,
     "metadata": {},
     "output_type": "execute_result"
    }
   ],
   "source": [
    "medv_conf =[boston['medv'].mean() - boston['medv'].std()/np.sqrt(len(boston))*1.962, boston['medv'].mean() + boston['medv'].std()/np.sqrt(len(boston))*1.962]\n",
    "medv_conf"
   ]
  },
  {
   "cell_type": "code",
   "execution_count": 176,
   "id": "d6b19cbf",
   "metadata": {},
   "outputs": [
    {
     "data": {
      "text/plain": [
       "(21.729528014578616, 23.33608463364278)"
      ]
     },
     "execution_count": 176,
     "metadata": {},
     "output_type": "execute_result"
    }
   ],
   "source": [
    "import scipy.stats as st\n",
    "\n",
    "st.t.interval(0.95, len(boston)-1, loc = np.mean(boston['medv']), scale = boston['medv'].std()/np.sqrt(len(boston)) )"
   ]
  },
  {
   "cell_type": "code",
   "execution_count": 177,
   "id": "b6ab9990",
   "metadata": {},
   "outputs": [
    {
     "data": {
      "text/plain": [
       "21.2"
      ]
     },
     "execution_count": 177,
     "metadata": {},
     "output_type": "execute_result"
    }
   ],
   "source": [
    "boston['medv'].median()"
   ]
  },
  {
   "cell_type": "code",
   "execution_count": 180,
   "id": "f4de2c42",
   "metadata": {},
   "outputs": [
    {
     "data": {
      "text/plain": [
       "0.3655178655004427"
      ]
     },
     "execution_count": 180,
     "metadata": {},
     "output_type": "execute_result"
    }
   ],
   "source": [
    "median_std = [boston['medv'].sample(n = len(boston), replace = True).median() for i in range(1000)]\n",
    "np.std(median_std)"
   ]
  },
  {
   "cell_type": "code",
   "execution_count": 181,
   "id": "ec3044be",
   "metadata": {},
   "outputs": [
    {
     "data": {
      "text/plain": [
       "12.75"
      ]
     },
     "execution_count": 181,
     "metadata": {},
     "output_type": "execute_result"
    }
   ],
   "source": [
    "boston['medv'].quantile(0.1)"
   ]
  },
  {
   "cell_type": "code",
   "execution_count": 184,
   "id": "ee162972",
   "metadata": {},
   "outputs": [
    {
     "data": {
      "text/plain": [
       "0.48946648250927255"
      ]
     },
     "execution_count": 184,
     "metadata": {},
     "output_type": "execute_result"
    }
   ],
   "source": [
    "quantile_std = [boston['medv'].sample(n = len(boston), replace = True).quantile(0.1) for i in range (1000)]\n",
    "np.std(quantile_std)"
   ]
  },
  {
   "cell_type": "code",
   "execution_count": null,
   "id": "75bb87fe",
   "metadata": {},
   "outputs": [],
   "source": []
  }
 ],
 "metadata": {
  "kernelspec": {
   "display_name": "Python 3 (ipykernel)",
   "language": "python",
   "name": "python3"
  },
  "language_info": {
   "codemirror_mode": {
    "name": "ipython",
    "version": 3
   },
   "file_extension": ".py",
   "mimetype": "text/x-python",
   "name": "python",
   "nbconvert_exporter": "python",
   "pygments_lexer": "ipython3",
   "version": "3.9.7"
  }
 },
 "nbformat": 4,
 "nbformat_minor": 5
}
